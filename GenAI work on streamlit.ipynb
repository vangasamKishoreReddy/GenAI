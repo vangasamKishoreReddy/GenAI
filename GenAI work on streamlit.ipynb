{
 "cells": [
  {
   "cell_type": "code",
   "execution_count": 43,
   "id": "43a65ac8-9e0b-451d-9a5a-b66095b7c830",
   "metadata": {},
   "outputs": [],
   "source": [
    "from openai import OpenAI\n",
    "import streamlit as st"
   ]
  },
  {
   "cell_type": "code",
   "execution_count": null,
   "id": "c92a5b69-d33a-44b9-b11a-ed8c1b602b77",
   "metadata": {},
   "outputs": [],
   "source": [
    "# pip install openai\n",
    "#!pip install streamlit"
   ]
  },
  {
   "cell_type": "code",
   "execution_count": 44,
   "id": "7cf9338c-86d5-44cb-95da-f3447f5edd52",
   "metadata": {},
   "outputs": [],
   "source": [
    "\n",
    "f = open(r\"C:\\Users\\vkr20\\Desktop\\All Projects\\Internship\\Gen Ai\\Keys\\.Key_OpenAI.txt\")\n",
    "OPENAI_API_KEY = f.read()\n",
    "client = OpenAI(api_key = OPENAI_API_KEY)\n",
    "\n",
    "st.title(\"Gen AI: Revolutionizing Code with AI\")\n",
    "\n",
    "prompt = st.text_input(\"Enter your code here\", \"Type or paste your code here...\")\n",
    "\n",
    "\n",
    "def chat_bot(prompt):\n",
    "\n",
    "    st.snow()\n",
    "    response = client.chat.completions.create(\n",
    "                      model=\"gpt-3.5-turbo-16k-0613\",\n",
    "                      messages=[\n",
    "                        {\"role\": \"system\", \n",
    "                         \"content\": \"\"\"You are a teaching assistant for students .. \n",
    "                         you are need to explain and fix the bugs and explain student where he is done mistakes \"\"\"},\n",
    "                        {\"role\": \"user\", \"content\": prompt}\n",
    "                      ]\n",
    "                )\n",
    "    return response.choices[0].message.content\n",
    "if st.button(\"Code Fixer\"):\n",
    "\n",
    "    st.write(chat_bot(prompt))"
   ]
  },
  {
   "cell_type": "code",
   "execution_count": null,
   "id": "daeb25fc-6053-4f3b-96d8-49c2f98e62b6",
   "metadata": {},
   "outputs": [],
   "source": []
  }
 ],
 "metadata": {
  "kernelspec": {
   "display_name": "Python 3 (ipykernel)",
   "language": "python",
   "name": "python3"
  },
  "language_info": {
   "codemirror_mode": {
    "name": "ipython",
    "version": 3
   },
   "file_extension": ".py",
   "mimetype": "text/x-python",
   "name": "python",
   "nbconvert_exporter": "python",
   "pygments_lexer": "ipython3",
   "version": "3.11.5"
  }
 },
 "nbformat": 4,
 "nbformat_minor": 5
}
